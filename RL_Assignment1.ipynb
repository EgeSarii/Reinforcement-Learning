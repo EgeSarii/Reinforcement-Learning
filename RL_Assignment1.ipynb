{
  "cells": [
    {
      "cell_type": "markdown",
      "metadata": {
        "collapsed": true,
        "pycharm": {
          "name": "#%% md\n"
        },
        "id": "zGWcyHEBjGbT"
      },
      "source": [
        "## Reinforcement Learning 2: *Markov Decision Processes (MDPs)*\n",
        "\n",
        "**Assignment:** hand-in before 16/02/2022"
      ]
    },
    {
      "cell_type": "markdown",
      "source": [
        "#### **1. Binary World**\n",
        "\n",
        "*(5 x 1 points)*\n",
        "\n",
        "Consider an environment that has only 2 states: $\\mathcal{S} = \\{A (good), B (bad)\\}$. The agent can interact with the environment taking one of 2 possible actions:  $\\mathcal{A} = \\{x, y\\}$:\n",
        "\n",
        "- From state `A`, action `x` leads to `A` (60%) or `B` (40%); `y` leads to `A` (50%) or `B` (50%)\n",
        "- From state `B`, action `x` leads to `A` (30%) or `B` (70%); `y` leads to `A` (80%) or `B` (20%)"
      ],
      "metadata": {
        "collapsed": false,
        "pycharm": {
          "name": "#%% md\n"
        },
        "id": "sSGOMVM3jGbZ"
      }
    },
    {
      "cell_type": "markdown",
      "source": [
        "**a)** Write two functions `action_x(s)` and `action_y(s)`, that take an input k (corresponding to the state `A` or `B`) and return the next state ($s'$, `A` or `B`), based on the state transitions."
      ],
      "metadata": {
        "collapsed": false,
        "pycharm": {
          "name": "#%% md\n"
        },
        "id": "Q6FEPnyPjGbb"
      }
    },
    {
      "cell_type": "code",
      "execution_count": null,
      "outputs": [],
      "source": [
        "import numpy as np\n",
        "def action_x(s):\n",
        "  pAxA = 0.6 \n",
        "  pAxB = 1 - pAxA\n",
        "  pBxA = 0.3\n",
        "  pBxB = 1- pBxA\n",
        "  return [['A','B'][np.random.choice(2,p=[pAxA,pAxB])],['A','B'][np.random.choice(2,p=[pBxA,pBxB])]][{'A': 0,'B': 1}[s]]\n",
        "\n",
        "def action_y(s):\n",
        "  pAyA = 0.5 \n",
        "  pAyB = 1- pAyA\n",
        "  pByA = 0.8\n",
        "  pByB = 1- pByA\n",
        "  return [['A','B'][np.random.choice(2,p=[pAyA,pAyB])],['A','B'][np.random.choice(2,p=[pByA,pByB])]][{'A': 0,'B': 1}[s]]\n"
      ],
      "metadata": {
        "pycharm": {
          "name": "#%%\n"
        },
        "id": "rTv17d9ujGbc"
      }
    },
    {
      "cell_type": "markdown",
      "source": [
        "**b)** Run a simulation starting in state `A` and repeating action `x` 100 times. For each time step you are in state A, give yourself +1 point. Find (and plot or print) the total reward value."
      ],
      "metadata": {
        "collapsed": false,
        "pycharm": {
          "name": "#%% md\n"
        },
        "id": "aPQMVhbZjGbe"
      }
    },
    {
      "cell_type": "code",
      "execution_count": null,
      "outputs": [
        {
          "output_type": "display_data",
          "data": {
            "image/png": "[encoded data removed]",
            "text/plain": [
              "<Figure size 432x288 with 1 Axes>"
            ]
          },
          "metadata": {
            "needs_background": "light"
          }
        },
        {
          "output_type": "stream",
          "name": "stdout",
          "text": [
            "total reward: 53\n"
          ]
        }
      ],
      "source": [
        "import matplotlib.pyplot as plt\n",
        "\n",
        "def step_x(state):\n",
        "  rewards = []\n",
        "  time_step = list(range(101))\n",
        "  old_state = state\n",
        "  increment = {'A':1, 'B':0}\n",
        "  for i in range (101):\n",
        "    new_state = action_x(old_state)\n",
        "    rewards.append([0,(rewards or [None])[-1] ][len(rewards)>0] + increment[new_state])\n",
        "    old_state = new_state\n",
        "  reward = rewards[-1]\n",
        "  plt.plot(time_step,rewards)\n",
        "  plt.xlabel(\"Time step\")\n",
        "  plt.ylabel(\"cumulative reward\")\n",
        "  plt.show()\n",
        "  print(\"total reward: %d\"%reward)\n",
        "\n",
        "step_x('A')"
      ],
      "metadata": {
        "pycharm": {
          "name": "#%%\n"
        },
        "colab": {
          "base_uri": "https://localhost:8080/",
          "height": 296
        },
        "id": "2WRqihN9jGbf",
        "outputId": "3e107f39-3a64-488e-e68b-e87179952d1c"
      }
    },
    {
      "cell_type": "markdown",
      "source": [
        "**c)** Repeat b) using action `y` 100 times."
      ],
      "metadata": {
        "collapsed": false,
        "pycharm": {
          "name": "#%% md\n"
        },
        "id": "SB5O3944jGbg"
      }
    },
    {
      "cell_type": "code",
      "execution_count": null,
      "outputs": [
        {
          "output_type": "display_data",
          "data": {
            "image/png": "[encoded data removed]",
            "text/plain": [
              "<Figure size 432x288 with 1 Axes>"
            ]
          },
          "metadata": {
            "needs_background": "light"
          }
        },
        {
          "output_type": "stream",
          "name": "stdout",
          "text": [
            "total reward: 57\n"
          ]
        }
      ],
      "source": [
        "import matplotlib.pyplot as plt\n",
        "\n",
        "def step_y(state):\n",
        "  rewards = []\n",
        "  actions = list(range(101))\n",
        "  old_state = state\n",
        "  increment = {'A':1, 'B':0}\n",
        "  for i in range (101):\n",
        "    new_state = action_y(old_state)\n",
        "    rewards.append([0,(rewards or [None])[-1]][len(rewards)>0] + increment[new_state])\n",
        "    old_state = new_state\n",
        "  reward = rewards[-1]\n",
        "  plt.plot(actions,rewards)\n",
        "  plt.xlabel(\"Time step\")\n",
        "  plt.ylabel(\"cumulative reward\")\n",
        "  plt.show()\n",
        "  print(\"total reward: %d\" %reward)\n",
        "\n",
        "step_y('A')"
      ],
      "metadata": {
        "pycharm": {
          "name": "#%%\n"
        },
        "colab": {
          "base_uri": "https://localhost:8080/",
          "height": 282
        },
        "id": "-wrW83cDjGbh",
        "outputId": "931beaa5-3db3-45bb-fe15-6db524a08666"
      }
    },
    {
      "cell_type": "markdown",
      "source": [
        "**d)** Repeat, alternating randomly between actions"
      ],
      "metadata": {
        "collapsed": false,
        "pycharm": {
          "name": "#%% md\n"
        },
        "id": "VPuP_3ZRjGbi"
      }
    },
    {
      "cell_type": "code",
      "execution_count": null,
      "outputs": [
        {
          "output_type": "display_data",
          "data": {
            "image/png": "[encoded data removed]",
            "text/plain": [
              "<Figure size 432x288 with 1 Axes>"
            ]
          },
          "metadata": {
            "needs_background": "light"
          }
        },
        {
          "output_type": "execute_result",
          "data": {
            "text/plain": [
              "53"
            ]
          },
          "metadata": {},
          "execution_count": 92
        }
      ],
      "source": [
        "def random_action(start_state):\n",
        "  rewards = []\n",
        "  actions = list(range(101))\n",
        "  old_state = start_state\n",
        "  new_state = start_state\n",
        "  increment = {'A':1, 'B':0}\n",
        "  for i in range(101):\n",
        "    action = np.random.choice(2,p=[0.5,0.5])\n",
        "    new_state = [action_x(old_state),action_y(old_state)][action]\n",
        "    rewards.append([0,(rewards or [None])[-1]][len(rewards)>0] + increment[new_state])\n",
        "  reward = rewards[-1]\n",
        "  plt.plot(actions,rewards)\n",
        "  plt.xlabel(\"Time step\")\n",
        "  plt.ylabel(\"cumulative reward\")\n",
        "  plt.show()\n",
        "  return reward\n",
        "\n",
        "random_action('A')"
      ],
      "metadata": {
        "pycharm": {
          "name": "#%%\n"
        },
        "colab": {
          "base_uri": "https://localhost:8080/",
          "height": 282
        },
        "id": "iHs6p4omjGbj",
        "outputId": "fdfd774e-4b9e-4903-c664-eb54c05a17b9"
      }
    },
    {
      "cell_type": "markdown",
      "source": [
        "**e)** Compare the return obtained from each of these policies"
      ],
      "metadata": {
        "collapsed": false,
        "pycharm": {
          "name": "#%% md\n"
        },
        "id": "0ngxYhRYjGbk"
      }
    },
    {
      "cell_type": "markdown",
      "source": [
        "Reward for action x for 100 runs is 47\n",
        "Reward for action y for 100 runs is 64\n",
        "Reward for any of the actions for 100 runs is 50.\n",
        "Reward for action y is higher than for action x: we end up in state A more often which we actually call the 'Good' state. That is why the 100 runs for any of the action x or y yields a reward between 47 and 64.\n"
      ],
      "metadata": {
        "id": "eode7vgX047N"
      }
    },
    {
      "cell_type": "markdown",
      "source": [
        "---"
      ],
      "metadata": {
        "collapsed": false,
        "pycharm": {
          "name": "#%% md\n"
        },
        "id": "YmffiZhUjGbl"
      }
    },
    {
      "cell_type": "markdown",
      "source": [
        "## 2. Real-world scenarios\n",
        "\n",
        "*(5 points)*\n",
        "\n",
        "Considering the examples given in the lecture and in the tutorials, think about an example problem (try to keep it simple) that can be formulated as an MDP. Describe the problem completely: state and action spaces, rewards, dynamics. Draw a schematic description of the MDP (similar to the examples shown) and implement a simple `gym` environment for the MDP (including its dynamics). Sample from the MDP (taking random actions) for at least 100 steps and plot the cummulative reward."
      ],
      "metadata": {
        "collapsed": false,
        "pycharm": {
          "name": "#%% md\n"
        },
        "id": "aGXgGOJZjGbm"
      }
    },
    {
      "cell_type": "markdown",
      "source": [
        "![Weather_MDP.drawio.png](data:image/png;base64,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)"
      ],
      "metadata": {
        "id": "qX1zrlDn7K18"
      }
    },
    {
      "cell_type": "code",
      "execution_count": null,
      "outputs": [],
      "source": [
        "import gym\n",
        "from gym import spaces\n",
        "import numpy as np\n",
        "# This small example considers the possible states of weather: {Good, Bad}\n",
        "# In case of good weather we can take the following actions: {Praise,Ignore}\n",
        "# In case of bad weather we can take the following actions: {Hope, Ignore}\n",
        "# Our example runs in a world where praising, ignoring and hope can  change the weather on the following day. \n",
        "# when we are in state Good : action praise leads to 80% Good, 20% bad. action Ignore leads to 40% good, 60% bad\n",
        "# when we are in state Bad: action Hope leads to 70% Good, 30% bad. action Ignore leads to 40% bad, 60% good.\n",
        "# Good weather from a previous state of good weather brings 2 reward\n",
        "# Good weather from a previous state of bad weather brings 5 reward\n",
        "# bad weather from a previous state of bad weather brings 0 reward\n",
        "# bad weather from a previous state of good weather brings -3 reward\n",
        "\n",
        "class WeatherEnv(gym.Env):\n",
        "    \"\"\"\n",
        "    Weather custom environment, built with the gym interface\n",
        "    \"\"\"\n",
        "    metadata= {'render.modes': ['human']}\n",
        "    def _next_observation(self):\n",
        "        return {'state': self.agent_pos}\n",
        "\n",
        "    def __init__(self):\n",
        "        super(WeatherEnv, self).__init__()\n",
        "        # Here, we declare our initial configuration\n",
        "        # Usually, this includes defining the action\n",
        "        # and observation step\n",
        "        self.observation_space = spaces.Discrete(2)\n",
        "        self.action_space = spaces.Tuple((spaces.Discrete(2), spaces.Discrete(1)))\n",
        "        self.agent_pos = np.random.randint(2)\n",
        "\n",
        "\n",
        "    def step(self, action):\n",
        "        # This function executes a one-step simulation\n",
        "        # in our environment. Receives the desired action\n",
        "        # the agent has taken as input\n",
        "\n",
        "        # dictionary of functions that return [reward, next_state] transitions for each action\n",
        "        state_0_transitions = {\n",
        "            0: lambda: [[2,0],[-3,1]][np.random.choice(2,p=[0.8,0.2])],  # Good weather and praise: 80% for good weather -> 2 reward, next state(good)= 0 // 20% chance for bad weather -> -3 reward, next state (bad) = 1\n",
        "            1: lambda: [[2,0],[-3,1]][np.random.choice(2,p=[0.6,0.4])],  # Good weather and Ignore: 40% for good weather -> 2 reward, next state(good)= 0 // 40% chance for bad weather -> -3 reward, next state (bad) = 1\n",
        "        }\n",
        "\n",
        "        state_1_transitions = {\n",
        "            0: lambda: [[5,0],[0,1]][np.random.choice(2,p=[0.7,0.3])],  # Bad weather and Hope: 70% for good weather -> 5 reward, next state(good)= 0 // 30% chance for bad weather -> 0 reward, next state (bad) = 1\n",
        "            1: lambda: [[5,0],[0,1]][np.random.choice(2,p=[0.4,0.6])],  # Bad weather and Ignore: 60% for good weather -> 5 reward, next state(good)= 0 // 60% chance for bad weather -> 0 reward, next state (bad) = 1\n",
        "        }\n",
        "\n",
        "        reward = None\n",
        "        next_state = None\n",
        "        if (self.agent_pos==0):\n",
        "            # Agent is in Good weather. Use state 0 transitions\n",
        "            reward, next_state = state_0_transitions[action]()\n",
        "        else:\n",
        "            # Agent is in Bad weather. Use state 1 transitions\n",
        "            reward, next_state = state_1_transitions[action]()\n",
        "\n",
        "        # Transition the agent to the next state\n",
        "        self.agent_pos = next_state\n",
        "        # Return the data as defined by the gym interface\n",
        "        return self._next_observation(), reward, False, {}\n",
        "\n",
        "    def reset(self):\n",
        "        # Restarts the environment to a starting position.\n",
        "        # Usually, changes in the environment will be undone,\n",
        "        # and the environment is reseeded\n",
        "        # Reset the agent's position\n",
        "        self.agent_pos = np.random.randint(2)\n",
        "        return self._next_observation()\n",
        "\n",
        "    def render(self, mode='human'):\n",
        "        # Display the environment in some way. The mode defines\n",
        "        # in which way we desire to display it.\n",
        "        if mode == 'human':\n",
        "            pretty_print_state = {\n",
        "                0: \"Good Weather\",\n",
        "                1: \"Bad Weather\"\n",
        "            }\n",
        "            print('Current State: {}'.format(pretty_print_state[self.agent_pos]))\n",
        "        else:\n",
        "            raise NotImplementedError()"
      ],
      "metadata": {
        "pycharm": {
          "name": "#%%\n"
        },
        "id": "4PaqdDsbjGbn"
      }
    },
    {
      "cell_type": "code",
      "source": [
        "env = WeatherEnv()\n",
        "curr_state = env.agent_pos\n",
        "steps = 100\n",
        "cumul_reward = []\n",
        "actions = list (range (steps))\n",
        "\n",
        "pretty_print_a_0 = {\n",
        "    0: \"Praise the good weather\",\n",
        "    1: \"Ignoring the good weather\",\n",
        "}\n",
        "\n",
        "pretty_print_a_1 = {\n",
        "    0: \"Hope for good weather in bad weather\",\n",
        "    1: \"Ignore the bad weather\",\n",
        "}\n",
        "\n",
        "for _ in range(steps):\n",
        "    env.render()\n",
        "    action = env.action_space[curr_state].sample() # Sample an action from the current state\n",
        "    print_a = None\n",
        "    if curr_state==0:\n",
        "        print_a = pretty_print_a_0[action]\n",
        "    else:\n",
        "        print_a = pretty_print_a_1[action]\n",
        "    print(\"Action taken: {}\".format(print_a))\n",
        "    obs, reward, _, _ = env.step(action) # Execute a step, get observation and reward\n",
        "    curr_state = obs['state']\n",
        "    cumul_reward.append([0,(cumul_reward or [None])[-1]][len(cumul_reward)>0] + reward)\n",
        "    print(\"Reward obtained: {}\".format(reward))\n",
        "    print(\"===========================\")\n",
        "plt.plot(actions,cumul_reward)\n",
        "plt.xlabel(\"Time step\")\n",
        "plt.ylabel(\"cumulative reward\")\n",
        "plt.show()\n",
        "print (\"Total Reward : {}\" .format(cumul_reward[-1]) )"
      ],
      "metadata": {
        "colab": {
          "base_uri": "https://localhost:8080/",
          "height": 1000
        },
        "id": "sofw7ZB2iRCc",
        "outputId": "5f774589-4f07-4ea1-ee60-0256e25949a7"
      },
      "execution_count": null,
      "outputs": [
        {
          "output_type": "stream",
          "name": "stdout",
          "text": [
            "Current State: Bad Weather\n",
            "Action taken: Hope for good weather in bad weather\n",
            "Reward obtained: 5\n",
            "===========================\n",
            "Current State: Good Weather\n",
            "Action taken: Praise the good weather\n",
            "Reward obtained: 2\n",
            "===========================\n",
            "Current State: Good Weather\n",
            "Action taken: Praise the good weather\n",
            "Reward obtained: 2\n",
            "===========================\n",
            "Current State: Good Weather\n",
            "Action taken: Praise the good weather\n",
            "Reward obtained: -3\n",
            "===========================\n",
            "Current State: Bad Weather\n",
            "Action taken: Hope for good weather in bad weather\n",
            "Reward obtained: 5\n",
            "===========================\n",
            "Current State: Good Weather\n",
            "Action taken: Praise the good weather\n",
            "Reward obtained: 2\n",
            "===========================\n",
            "Current State: Good Weather\n",
            "Action taken: Praise the good weather\n",
            "Reward obtained: 2\n",
            "===========================\n",
            "Current State: Good Weather\n",
            "Action taken: Praise the good weather\n",
            "Reward obtained: 2\n",
            "===========================\n",
            "Current State: Good Weather\n",
            "Action taken: Ignoring the good weather\n",
            "Reward obtained: 2\n",
            "===========================\n",
            "Current State: Good Weather\n",
            "Action taken: Ignoring the good weather\n",
            "Reward obtained: 2\n",
            "===========================\n",
            "Current State: Good Weather\n",
            "Action taken: Ignoring the good weather\n",
            "Reward obtained: -3\n",
            "===========================\n",
            "Current State: Bad Weather\n",
            "Action taken: Hope for good weather in bad weather\n",
            "Reward obtained: 5\n",
            "===========================\n",
            "Current State: Good Weather\n",
            "Action taken: Praise the good weather\n",
            "Reward obtained: 2\n",
            "===========================\n",
            "Current State: Good Weather\n",
            "Action taken: Ignoring the good weather\n",
            "Reward obtained: 2\n",
            "===========================\n",
            "Current State: Good Weather\n",
            "Action taken: Praise the good weather\n",
            "Reward obtained: -3\n",
            "===========================\n",
            "Current State: Bad Weather\n",
            "Action taken: Hope for good weather in bad weather\n",
            "Reward obtained: 5\n",
            "===========================\n",
            "Current State: Good Weather\n",
            "Action taken: Praise the good weather\n",
            "Reward obtained: 2\n",
            "===========================\n",
            "Current State: Good Weather\n",
            "Action taken: Ignoring the good weather\n",
            "Reward obtained: 2\n",
            "===========================\n",
            "Current State: Good Weather\n",
            "Action taken: Praise the good weather\n",
            "Reward obtained: 2\n",
            "===========================\n",
            "Current State: Good Weather\n",
            "Action taken: Ignoring the good weather\n",
            "Reward obtained: -3\n",
            "===========================\n",
            "Current State: Bad Weather\n",
            "Action taken: Hope for good weather in bad weather\n",
            "Reward obtained: 5\n",
            "===========================\n",
            "Current State: Good Weather\n",
            "Action taken: Ignoring the good weather\n",
            "Reward obtained: -3\n",
            "===========================\n",
            "Current State: Bad Weather\n",
            "Action taken: Hope for good weather in bad weather\n",
            "Reward obtained: 5\n",
            "===========================\n",
            "Current State: Good Weather\n",
            "Action taken: Ignoring the good weather\n",
            "Reward obtained: 2\n",
            "===========================\n",
            "Current State: Good Weather\n",
            "Action taken: Ignoring the good weather\n",
            "Reward obtained: -3\n",
            "===========================\n",
            "Current State: Bad Weather\n",
            "Action taken: Hope for good weather in bad weather\n",
            "Reward obtained: 0\n",
            "===========================\n",
            "Current State: Bad Weather\n",
            "Action taken: Hope for good weather in bad weather\n",
            "Reward obtained: 5\n",
            "===========================\n",
            "Current State: Good Weather\n",
            "Action taken: Praise the good weather\n",
            "Reward obtained: 2\n",
            "===========================\n",
            "Current State: Good Weather\n",
            "Action taken: Ignoring the good weather\n",
            "Reward obtained: 2\n",
            "===========================\n",
            "Current State: Good Weather\n",
            "Action taken: Praise the good weather\n",
            "Reward obtained: -3\n",
            "===========================\n",
            "Current State: Bad Weather\n",
            "Action taken: Hope for good weather in bad weather\n",
            "Reward obtained: 0\n",
            "===========================\n",
            "Current State: Bad Weather\n",
            "Action taken: Hope for good weather in bad weather\n",
            "Reward obtained: 5\n",
            "===========================\n",
            "Current State: Good Weather\n",
            "Action taken: Ignoring the good weather\n",
            "Reward obtained: 2\n",
            "===========================\n",
            "Current State: Good Weather\n",
            "Action taken: Ignoring the good weather\n",
            "Reward obtained: 2\n",
            "===========================\n",
            "Current State: Good Weather\n",
            "Action taken: Praise the good weather\n",
            "Reward obtained: -3\n",
            "===========================\n",
            "Current State: Bad Weather\n",
            "Action taken: Hope for good weather in bad weather\n",
            "Reward obtained: 0\n",
            "===========================\n",
            "Current State: Bad Weather\n",
            "Action taken: Hope for good weather in bad weather\n",
            "Reward obtained: 5\n",
            "===========================\n",
            "Current State: Good Weather\n",
            "Action taken: Praise the good weather\n",
            "Reward obtained: 2\n",
            "===========================\n",
            "Current State: Good Weather\n",
            "Action taken: Praise the good weather\n",
            "Reward obtained: 2\n",
            "===========================\n",
            "Current State: Good Weather\n",
            "Action taken: Praise the good weather\n",
            "Reward obtained: 2\n",
            "===========================\n",
            "Current State: Good Weather\n",
            "Action taken: Praise the good weather\n",
            "Reward obtained: -3\n",
            "===========================\n",
            "Current State: Bad Weather\n",
            "Action taken: Hope for good weather in bad weather\n",
            "Reward obtained: 5\n",
            "===========================\n",
            "Current State: Good Weather\n",
            "Action taken: Praise the good weather\n",
            "Reward obtained: 2\n",
            "===========================\n",
            "Current State: Good Weather\n",
            "Action taken: Praise the good weather\n",
            "Reward obtained: 2\n",
            "===========================\n",
            "Current State: Good Weather\n",
            "Action taken: Praise the good weather\n",
            "Reward obtained: 2\n",
            "===========================\n",
            "Current State: Good Weather\n",
            "Action taken: Praise the good weather\n",
            "Reward obtained: -3\n",
            "===========================\n",
            "Current State: Bad Weather\n",
            "Action taken: Hope for good weather in bad weather\n",
            "Reward obtained: 5\n",
            "===========================\n",
            "Current State: Good Weather\n",
            "Action taken: Ignoring the good weather\n",
            "Reward obtained: -3\n",
            "===========================\n",
            "Current State: Bad Weather\n",
            "Action taken: Hope for good weather in bad weather\n",
            "Reward obtained: 5\n",
            "===========================\n",
            "Current State: Good Weather\n",
            "Action taken: Ignoring the good weather\n",
            "Reward obtained: 2\n",
            "===========================\n",
            "Current State: Good Weather\n",
            "Action taken: Ignoring the good weather\n",
            "Reward obtained: -3\n",
            "===========================\n",
            "Current State: Bad Weather\n",
            "Action taken: Hope for good weather in bad weather\n",
            "Reward obtained: 0\n",
            "===========================\n",
            "Current State: Bad Weather\n",
            "Action taken: Hope for good weather in bad weather\n",
            "Reward obtained: 5\n",
            "===========================\n",
            "Current State: Good Weather\n",
            "Action taken: Ignoring the good weather\n",
            "Reward obtained: -3\n",
            "===========================\n",
            "Current State: Bad Weather\n",
            "Action taken: Hope for good weather in bad weather\n",
            "Reward obtained: 0\n",
            "===========================\n",
            "Current State: Bad Weather\n",
            "Action taken: Hope for good weather in bad weather\n",
            "Reward obtained: 0\n",
            "===========================\n",
            "Current State: Bad Weather\n",
            "Action taken: Hope for good weather in bad weather\n",
            "Reward obtained: 5\n",
            "===========================\n",
            "Current State: Good Weather\n",
            "Action taken: Ignoring the good weather\n",
            "Reward obtained: 2\n",
            "===========================\n",
            "Current State: Good Weather\n",
            "Action taken: Praise the good weather\n",
            "Reward obtained: 2\n",
            "===========================\n",
            "Current State: Good Weather\n",
            "Action taken: Praise the good weather\n",
            "Reward obtained: -3\n",
            "===========================\n",
            "Current State: Bad Weather\n",
            "Action taken: Hope for good weather in bad weather\n",
            "Reward obtained: 5\n",
            "===========================\n",
            "Current State: Good Weather\n",
            "Action taken: Praise the good weather\n",
            "Reward obtained: 2\n",
            "===========================\n",
            "Current State: Good Weather\n",
            "Action taken: Praise the good weather\n",
            "Reward obtained: 2\n",
            "===========================\n",
            "Current State: Good Weather\n",
            "Action taken: Ignoring the good weather\n",
            "Reward obtained: -3\n",
            "===========================\n",
            "Current State: Bad Weather\n",
            "Action taken: Hope for good weather in bad weather\n",
            "Reward obtained: 5\n",
            "===========================\n",
            "Current State: Good Weather\n",
            "Action taken: Praise the good weather\n",
            "Reward obtained: -3\n",
            "===========================\n",
            "Current State: Bad Weather\n",
            "Action taken: Hope for good weather in bad weather\n",
            "Reward obtained: 5\n",
            "===========================\n",
            "Current State: Good Weather\n",
            "Action taken: Praise the good weather\n",
            "Reward obtained: 2\n",
            "===========================\n",
            "Current State: Good Weather\n",
            "Action taken: Praise the good weather\n",
            "Reward obtained: 2\n",
            "===========================\n",
            "Current State: Good Weather\n",
            "Action taken: Ignoring the good weather\n",
            "Reward obtained: 2\n",
            "===========================\n",
            "Current State: Good Weather\n",
            "Action taken: Praise the good weather\n",
            "Reward obtained: -3\n",
            "===========================\n",
            "Current State: Bad Weather\n",
            "Action taken: Hope for good weather in bad weather\n",
            "Reward obtained: 5\n",
            "===========================\n",
            "Current State: Good Weather\n",
            "Action taken: Ignoring the good weather\n",
            "Reward obtained: 2\n",
            "===========================\n",
            "Current State: Good Weather\n",
            "Action taken: Ignoring the good weather\n",
            "Reward obtained: 2\n",
            "===========================\n",
            "Current State: Good Weather\n",
            "Action taken: Praise the good weather\n",
            "Reward obtained: -3\n",
            "===========================\n",
            "Current State: Bad Weather\n",
            "Action taken: Hope for good weather in bad weather\n",
            "Reward obtained: 0\n",
            "===========================\n",
            "Current State: Bad Weather\n",
            "Action taken: Hope for good weather in bad weather\n",
            "Reward obtained: 5\n",
            "===========================\n",
            "Current State: Good Weather\n",
            "Action taken: Praise the good weather\n",
            "Reward obtained: 2\n",
            "===========================\n",
            "Current State: Good Weather\n",
            "Action taken: Ignoring the good weather\n",
            "Reward obtained: 2\n",
            "===========================\n",
            "Current State: Good Weather\n",
            "Action taken: Ignoring the good weather\n",
            "Reward obtained: 2\n",
            "===========================\n",
            "Current State: Good Weather\n",
            "Action taken: Ignoring the good weather\n",
            "Reward obtained: 2\n",
            "===========================\n",
            "Current State: Good Weather\n",
            "Action taken: Praise the good weather\n",
            "Reward obtained: -3\n",
            "===========================\n",
            "Current State: Bad Weather\n",
            "Action taken: Hope for good weather in bad weather\n",
            "Reward obtained: 0\n",
            "===========================\n",
            "Current State: Bad Weather\n",
            "Action taken: Hope for good weather in bad weather\n",
            "Reward obtained: 5\n",
            "===========================\n",
            "Current State: Good Weather\n",
            "Action taken: Ignoring the good weather\n",
            "Reward obtained: 2\n",
            "===========================\n",
            "Current State: Good Weather\n",
            "Action taken: Ignoring the good weather\n",
            "Reward obtained: -3\n",
            "===========================\n",
            "Current State: Bad Weather\n",
            "Action taken: Hope for good weather in bad weather\n",
            "Reward obtained: 5\n",
            "===========================\n",
            "Current State: Good Weather\n",
            "Action taken: Praise the good weather\n",
            "Reward obtained: -3\n",
            "===========================\n",
            "Current State: Bad Weather\n",
            "Action taken: Hope for good weather in bad weather\n",
            "Reward obtained: 5\n",
            "===========================\n",
            "Current State: Good Weather\n",
            "Action taken: Praise the good weather\n",
            "Reward obtained: 2\n",
            "===========================\n",
            "Current State: Good Weather\n",
            "Action taken: Ignoring the good weather\n",
            "Reward obtained: 2\n",
            "===========================\n",
            "Current State: Good Weather\n",
            "Action taken: Praise the good weather\n",
            "Reward obtained: 2\n",
            "===========================\n",
            "Current State: Good Weather\n",
            "Action taken: Ignoring the good weather\n",
            "Reward obtained: 2\n",
            "===========================\n",
            "Current State: Good Weather\n",
            "Action taken: Praise the good weather\n",
            "Reward obtained: -3\n",
            "===========================\n",
            "Current State: Bad Weather\n",
            "Action taken: Hope for good weather in bad weather\n",
            "Reward obtained: 5\n",
            "===========================\n",
            "Current State: Good Weather\n",
            "Action taken: Ignoring the good weather\n",
            "Reward obtained: -3\n",
            "===========================\n",
            "Current State: Bad Weather\n",
            "Action taken: Hope for good weather in bad weather\n",
            "Reward obtained: 5\n",
            "===========================\n",
            "Current State: Good Weather\n",
            "Action taken: Ignoring the good weather\n",
            "Reward obtained: 2\n",
            "===========================\n",
            "Current State: Good Weather\n",
            "Action taken: Praise the good weather\n",
            "Reward obtained: 2\n",
            "===========================\n",
            "Current State: Good Weather\n",
            "Action taken: Ignoring the good weather\n",
            "Reward obtained: 2\n",
            "===========================\n"
          ]
        },
        {
          "output_type": "display_data",
          "data": {
            "image/png": "[encoded data removed]",
            "text/plain": [
              "<Figure size 432x288 with 1 Axes>"
            ]
          },
          "metadata": {
            "needs_background": "light"
          }
        },
        {
          "output_type": "stream",
          "name": "stdout",
          "text": [
            "Total Reward : 141\n"
          ]
        }
      ]
    },
    {
      "cell_type": "code",
      "source": [
        ""
      ],
      "metadata": {
        "id": "gV-_ewBxBYyy"
      },
      "execution_count": null,
      "outputs": []
    }
  ],
  "metadata": {
    "kernelspec": {
      "display_name": "Python 3",
      "language": "python",
      "name": "python3"
    },
    "language_info": {
      "codemirror_mode": {
        "name": "ipython",
        "version": 2
      },
      "file_extension": ".py",
      "mimetype": "text/x-python",
      "name": "python",
      "nbconvert_exporter": "python",
      "pygments_lexer": "ipython2",
      "version": "2.7.6"
    },
    "colab": {
      "name": "RL_Assignment1.ipynb",
      "provenance": [],
      "collapsed_sections": []
    }
  },
  "nbformat": 4,
  "nbformat_minor": 0
}