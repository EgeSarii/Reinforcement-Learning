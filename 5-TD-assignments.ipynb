{
 "cells": [
  {
   "cell_type": "markdown",
   "metadata": {
    "collapsed": true,
    "pycharm": {
     "name": "#%% md\n"
    }
   },
   "source": [
    "## Reinforcement Learning 5: *Temporal Difference Learning*\n",
    "\n",
    "**Assignment:** hand-in before 14/03/2022.\n",
    "\n"
   ]
  },
  {
   "cell_type": "markdown",
   "metadata": {
    "pycharm": {
     "name": "#%% md\n"
    }
   },
   "source": [
    "#### 1. Q-Learning vs SARSA\n",
    "\n",
    "In this week's assignment, you will implement Q-learning (off-policy TD control) and SARSA (on-policy TD control) to find optimal $\\epsilon$-greedy policies to solve 2 example tasks:\n",
    "- `WindyGridworld` (example 6.5 in the textbook)\n",
    "- `CliffWalking` (example 6.6 in the textbook)\n",
    "\n",
    "**References:**\n",
    "[1] - Sutton & Barto, Chapter 6 (examples 6.5 and 6.6)"
   ]
  },
  {
   "cell_type": "markdown",
   "metadata": {
    "pycharm": {
     "name": "#%% md\n"
    }
   },
   "source": [
    "Let's start by creating custom environments.\n",
    "\n",
    "- `WindyGridworld`:\n",
    "![](https://drive.google.com/uc?id=1uZO6aMctS3S0kicTQjSyaGvpFX5oBpkb)"
   ]
  },
  {
   "cell_type": "code",
   "execution_count": null,
   "metadata": {
    "pycharm": {
     "name": "#%%\n"
    }
   },
   "outputs": [],
   "source": [
    "from collections import defaultdict, namedtuple\n",
    "from io import StringIO\n",
    "\n",
    "import gym\n",
    "import numpy as np\n",
    "import itertools\n",
    "import matplotlib.pyplot as plt\n",
    "import pandas as pd\n",
    "import sys\n",
    "from gym.envs.toy_text import discrete\n",
    "\n",
    "# define a data structure to store the relevant statistics of an episode\n",
    "EpisodeStats = namedtuple(\"Stats\",[\"episode_lengths\", \"episode_rewards\"])"
   ]
  },
  {
   "cell_type": "code",
   "execution_count": null,
   "metadata": {
    "pycharm": {
     "name": "#%%\n"
    }
   },
   "outputs": [],
   "source": [
    "class WindyGridworldEnv(discrete.DiscreteEnv):\n",
    "    metadata = {'render.modes': ['human']}\n",
    "\n",
    "    def _limit_coordinates(self, coord):\n",
    "        coord[0] = min(coord[0], self.shape[0] - 1)\n",
    "        coord[0] = max(coord[0], 0)\n",
    "        coord[1] = min(coord[1], self.shape[1] - 1)\n",
    "        coord[1] = max(coord[1], 0)\n",
    "        return coord\n",
    "\n",
    "    def _calculate_transition_prob(self, current, delta, winds):\n",
    "        new_position = np.array(current) + np.array(delta) + np.array([-1, 0]) * winds[tuple(current)]\n",
    "        new_position = self._limit_coordinates(new_position).astype(int)\n",
    "        new_state = np.ravel_multi_index(tuple(new_position), self.shape)\n",
    "        is_done = tuple(new_position) == (3, 7)\n",
    "        return [(1.0, new_state, -1.0, is_done)]\n",
    "\n",
    "    def __init__(self):\n",
    "        UP, RIGHT, DOWN, LEFT = 0, 1, 2, 3\n",
    "        self.shape = (7, 10)\n",
    "        nS = np.prod(self.shape)\n",
    "        nA = 4\n",
    "\n",
    "        # Wind strength\n",
    "        winds = np.zeros(self.shape)\n",
    "        winds[:,[3,4,5,8]] = 1\n",
    "        winds[:,[6,7]] = 2\n",
    "\n",
    "        # Calculate transition probabilities\n",
    "        P = {}\n",
    "        for s in range(nS):\n",
    "            position = np.unravel_index(s, self.shape)\n",
    "            P[s] = { a : [] for a in range(nA) }\n",
    "            P[s][UP] = self._calculate_transition_prob(position, [-1, 0], winds)\n",
    "            P[s][RIGHT] = self._calculate_transition_prob(position, [0, 1], winds)\n",
    "            P[s][DOWN] = self._calculate_transition_prob(position, [1, 0], winds)\n",
    "            P[s][LEFT] = self._calculate_transition_prob(position, [0, -1], winds)\n",
    "\n",
    "        # We always start in state (3, 0)\n",
    "        isd = np.zeros(nS)\n",
    "        isd[np.ravel_multi_index((3,0), self.shape)] = 1.0\n",
    "        super(WindyGridworldEnv, self).__init__(nS, nA, P, isd)\n",
    "\n",
    "    def render(self, mode='human'):\n",
    "        outfile = sys.stdout\n",
    "        for s in range(self.nS):\n",
    "            position = np.unravel_index(s, self.shape)\n",
    "            if self.s == s:\n",
    "                output = \" x \"\n",
    "            elif position == (3,7):\n",
    "                output = \" T \"\n",
    "            else:\n",
    "                output = \" o \"\n",
    "            if position[1] == 0:\n",
    "                output = output.lstrip()\n",
    "            if position[1] == self.shape[1] - 1:\n",
    "                output = output.rstrip()\n",
    "                output += \"\\n\"\n",
    "            outfile.write(output)\n",
    "        outfile.write(\"\\n\")"
   ]
  },
  {
   "cell_type": "markdown",
   "metadata": {
    "pycharm": {
     "name": "#%% md\n"
    }
   },
   "source": [
    "- `CliffWalking`:\n",
    "![](https://drive.google.com/uc?id=1tHK_CgIpbHecZRgOUGH2w3LxqWYLTGBI)"
   ]
  },
  {
   "cell_type": "code",
   "execution_count": null,
   "metadata": {
    "pycharm": {
     "name": "#%%\n"
    }
   },
   "outputs": [],
   "source": [
    "UP, RIGHT, DOWN, LEFT = 0, 1, 2, 3\n",
    "\n",
    "class CliffWalkingEnv(discrete.DiscreteEnv):\n",
    "    metadata = {'render.modes': ['human']}\n",
    "\n",
    "    def _limit_coordinates(self, coord):\n",
    "        coord[0] = min(coord[0], self.shape[0] - 1)\n",
    "        coord[0] = max(coord[0], 0)\n",
    "        coord[1] = min(coord[1], self.shape[1] - 1)\n",
    "        coord[1] = max(coord[1], 0)\n",
    "        return coord\n",
    "\n",
    "    def _calculate_transition_prob(self, current, delta):\n",
    "        new_position = np.array(current) + np.array(delta)\n",
    "        new_position = self._limit_coordinates(new_position).astype(int)\n",
    "        new_state = np.ravel_multi_index(tuple(new_position), self.shape)\n",
    "        reward = -100.0 if self._cliff[tuple(new_position)] else -1.0\n",
    "        is_done = self._cliff[tuple(new_position)] or (tuple(new_position) == (3, 11))\n",
    "        return [(1.0, new_state, reward, is_done)]\n",
    "\n",
    "    def __init__(self):\n",
    "        self.shape = (4, 12)\n",
    "\n",
    "        nS = np.prod(self.shape)\n",
    "        nA = 4\n",
    "\n",
    "        # Cliff Location\n",
    "        self._cliff = np.zeros(self.shape, dtype=bool)\n",
    "        self._cliff[3, 1:-1] = True\n",
    "\n",
    "        # Calculate transition probabilities\n",
    "        P = {}\n",
    "        for s in range(nS):\n",
    "            position = np.unravel_index(s, self.shape)\n",
    "            P[s] = {a: [] for a in range(nA)}\n",
    "            P[s][UP] = self._calculate_transition_prob(position, [-1, 0])\n",
    "            P[s][RIGHT] = self._calculate_transition_prob(position, [0, 1])\n",
    "            P[s][DOWN] = self._calculate_transition_prob(position, [1, 0])\n",
    "            P[s][LEFT] = self._calculate_transition_prob(position, [0, -1])\n",
    "\n",
    "        # We always start in state (3, 0)\n",
    "        isd = np.zeros(nS)\n",
    "        isd[np.ravel_multi_index((3, 0), self.shape)] = 1.0\n",
    "\n",
    "        super(CliffWalkingEnv, self).__init__(nS, nA, P, isd)\n",
    "\n",
    "    def render(self):\n",
    "        outfile = sys.stdout\n",
    "\n",
    "        for s in range(self.nS):\n",
    "            position = np.unravel_index(s, self.shape)\n",
    "            if self.s == s:\n",
    "                output = \" x \"\n",
    "            elif position == (3, 11):\n",
    "                output = \" T \"\n",
    "            elif self._cliff[position]:\n",
    "                output = \" C \"\n",
    "            else:\n",
    "                output = \" o \"\n",
    "\n",
    "            if position[1] == 0:\n",
    "                output = output.lstrip()\n",
    "            if position[1] == self.shape[1] - 1:\n",
    "                output = output.rstrip()\n",
    "                output += \"\\n\"\n",
    "            outfile.write(output)\n",
    "        outfile.write(\"\\n\")"
   ]
  },
  {
   "cell_type": "markdown",
   "metadata": {
    "pycharm": {
     "name": "#%% md\n"
    }
   },
   "source": [
    "**a.1)** Explore the `WindyGridworld` environment you just created, run and render 10 steps with a uniform random policy.\n",
    "\n",
    "*(0.5 points)*"
   ]
  },
  {
   "cell_type": "code",
   "execution_count": null,
   "metadata": {
    "pycharm": {
     "name": "#%%\n"
    }
   },
   "outputs": [],
   "source": [
    "env1 = WindyGridworldEnv()\n",
    "#"
   ]
  },
  {
   "cell_type": "code",
   "execution_count": null,
   "metadata": {
    "pycharm": {
     "name": "#%%\n"
    }
   },
   "outputs": [],
   "source": [
    "for i in range(10):\n",
    "    #"
   ]
  },
  {
   "cell_type": "markdown",
   "metadata": {
    "pycharm": {
     "name": "#%% md\n"
    }
   },
   "source": [
    "**a.2)** Explore the `CliffWalking` environment you just created, run and render 10 steps with a uniform random policy.\n",
    "\n",
    "*(0.5 points)*"
   ]
  },
  {
   "cell_type": "code",
   "execution_count": null,
   "metadata": {
    "pycharm": {
     "name": "#%%\n"
    }
   },
   "outputs": [],
   "source": [
    "env2 = CliffWalkingEnv()\n",
    "\n",
    "#"
   ]
  },
  {
   "cell_type": "code",
   "execution_count": null,
   "metadata": {
    "pycharm": {
     "name": "#%%\n"
    }
   },
   "outputs": [],
   "source": [
    "for i in range(10):\n",
    "    #"
   ]
  },
  {
   "cell_type": "markdown",
   "metadata": {
    "pycharm": {
     "name": "#%% md\n"
    }
   },
   "source": [
    "**b**) Write a function that creates an $\\epsilon$-greedy policy for a given Q-value function and $\\epsilon$.\n",
    "\n",
    "*(2 points)*"
   ]
  },
  {
   "cell_type": "code",
   "execution_count": null,
   "metadata": {
    "pycharm": {
     "name": "#%%\n"
    }
   },
   "outputs": [],
   "source": [
    "def make_epsilon_greedy_policy(Q, epsilon, nA):\n",
    "    \"\"\"\n",
    "    Creates an epsilon-greedy policy based on a given Q-function and epsilon.\n",
    "\n",
    "    Args:\n",
    "        Q: A dictionary that maps from state -> action-values.\n",
    "            Each value is a numpy array of length nA (see below)\n",
    "        epsilon: The probability to select a random action . float between 0 and 1.\n",
    "        nA: Number of actions in the environment.\n",
    "\n",
    "    Returns:\n",
    "        A function that takes the observation as an argument and returns\n",
    "        the probabilities for each action in the form of a numpy array of length nA.\n",
    "\n",
    "    \"\"\"\n",
    "    def policy_fn(observation):\n",
    "        A = np.ones(nA, dtype=float) * epsilon / nA\n",
    "        best_action = #\n",
    "        A[best_action] = #\n",
    "        return A\n",
    "    return policy_fn"
   ]
  },
  {
   "cell_type": "markdown",
   "metadata": {
    "pycharm": {
     "name": "#%% md\n"
    }
   },
   "source": [
    "**c**) Write a function that implements the Q-learning algorithm (off-policy TD control) to find the optimal $\\epsilon$-greedy policy.\n",
    "\n",
    "*(3 points)*"
   ]
  },
  {
   "cell_type": "code",
   "execution_count": null,
   "metadata": {
    "pycharm": {
     "name": "#%%\n"
    }
   },
   "outputs": [],
   "source": [
    "def q_learning(env, num_episodes, discount_factor=1.0, alpha=0.5, epsilon=0.1):\n",
    "    \"\"\"\n",
    "    Q-Learning algorithm: Off-policy TD control. Finds the optimal greedy policy\n",
    "    while following an epsilon-greedy policy\n",
    "\n",
    "    Args:\n",
    "        env: OpenAI environment.\n",
    "        num_episodes: Number of episodes to run for.\n",
    "        discount_factor: Gamma discount factor.\n",
    "        alpha: TD learning rate.\n",
    "        epsilon: Chance to sample a random action. Float between 0 and 1.\n",
    "\n",
    "    Returns:\n",
    "        A tuple (Q, episode_lengths).\n",
    "        Q is the optimal action-value function, a dictionary mapping state -> action values.\n",
    "        stats is an EpisodeStats object with two numpy arrays for episode_lengths and episode_rewards.\n",
    "    \"\"\"\n",
    "\n",
    "    # The final action-value function.\n",
    "    # A nested dictionary that maps state -> (action -> action-value).\n",
    "    Q = defaultdict(lambda: np.zeros(env.action_space.n))\n",
    "\n",
    "    # Keeps track of useful statistics\n",
    "    stats = EpisodeStats(\n",
    "        episode_lengths=np.zeros(num_episodes),\n",
    "        episode_rewards=np.zeros(num_episodes))\n",
    "\n",
    "    # The policy we're following\n",
    "    policy = make_epsilon_greedy_policy(Q, epsilon, env.action_space.n)\n",
    "\n",
    "    for i_episode in range(num_episodes):\n",
    "        # Print out which episode we're on, useful for debugging.\n",
    "        if (i_episode + 1) % 100 == 0:\n",
    "            print(\"\\rEpisode {}/{}.\".format(i_episode + 1, num_episodes), end=\"\")\n",
    "            sys.stdout.flush()\n",
    "\n",
    "        # Reset the environment and pick the first action\n",
    "        state = env.reset()\n",
    "\n",
    "        # One step in the environment\n",
    "        for t in itertools.count():\n",
    "\n",
    "            # Take a step\n",
    "            action_probs = policy(state)\n",
    "            action = np.random.choice(np.arange(len(action_probs)), p=action_probs)\n",
    "            next_state, reward, done, _ = env.step(action)\n",
    "\n",
    "            # Update statistics\n",
    "            stats.episode_rewards[i_episode] += reward\n",
    "            stats.episode_lengths[i_episode] = t\n",
    "\n",
    "            # TD Update\n",
    "            best_next_action = np.argmax(Q[next_state])\n",
    "            td_target = #\n",
    "            td_delta = #\n",
    "            Q[state][action] += alpha * td_delta\n",
    "\n",
    "            if done:\n",
    "                break\n",
    "\n",
    "            state = next_state\n",
    "\n",
    "    return Q, stats"
   ]
  },
  {
   "cell_type": "markdown",
   "metadata": {
    "pycharm": {
     "name": "#%% md\n"
    }
   },
   "source": [
    "**d**) Write a function that implements the SARSA algorithm (on-policy TD control) to find the optimal $\\epsilon$-greedy policy.\n",
    "\n",
    "*(3 points)*"
   ]
  },
  {
   "cell_type": "code",
   "execution_count": null,
   "metadata": {
    "pycharm": {
     "name": "#%%\n"
    }
   },
   "outputs": [],
   "source": [
    "def sarsa(env, num_episodes, discount_factor=1.0, alpha=0.5, epsilon=0.1):\n",
    "    \"\"\"\n",
    "    SARSA algorithm: On-policy TD control. Finds the optimal epsilon-greedy policy.\n",
    "\n",
    "    Args:\n",
    "        env: OpenAI environment.\n",
    "        num_episodes: Number of episodes to run for.\n",
    "        discount_factor: Gamma discount factor.\n",
    "        alpha: TD learning rate.\n",
    "        epsilon: Chance the sample a random action. Float betwen 0 and 1.\n",
    "\n",
    "    Returns:\n",
    "        A tuple (Q, stats).\n",
    "        Q is the optimal action-value function, a dictionary mapping state -> action values.\n",
    "        stats is an EpisodeStats object with two numpy arrays for episode_lengths and episode_rewards.\n",
    "    \"\"\"\n",
    "\n",
    "    # The final action-value function.\n",
    "    # A nested dictionary that maps state -> (action -> action-value).\n",
    "    Q = defaultdict(lambda: np.zeros(env.action_space.n))\n",
    "\n",
    "    # Keeps track of useful statistics\n",
    "    stats = EpisodeStats(\n",
    "        episode_lengths=np.zeros(num_episodes),\n",
    "        episode_rewards=np.zeros(num_episodes))\n",
    "\n",
    "    # The policy we're following\n",
    "    policy = make_epsilon_greedy_policy(Q, epsilon, env.action_space.n)\n",
    "\n",
    "    for i_episode in range(num_episodes):\n",
    "        # Print out which episode we're on, useful for debugging.\n",
    "        if (i_episode + 1) % 100 == 0:\n",
    "            print(\"\\rEpisode {}/{}.\".format(i_episode + 1, num_episodes), end=\"\")\n",
    "            sys.stdout.flush()\n",
    "\n",
    "        # Reset the environment and pick the first action\n",
    "        state = env.reset()\n",
    "        action_probs = policy(state)\n",
    "        action = np.random.choice(np.arange(len(action_probs)), p=action_probs)\n",
    "\n",
    "        # One step in the environment\n",
    "        for t in itertools.count():\n",
    "            # Take a step\n",
    "            next_state, reward, done, _ = env.step(action)\n",
    "\n",
    "            # Pick the next action\n",
    "            next_action_probs = policy(next_state)\n",
    "            next_action = np.random.choice(np.arange(len(next_action_probs)), p=next_action_probs)\n",
    "\n",
    "            # Update statistics\n",
    "            stats.episode_rewards[i_episode] += reward\n",
    "            stats.episode_lengths[i_episode] = t\n",
    "\n",
    "            # TD Update\n",
    "            td_target = #\n",
    "            td_delta = #\n",
    "            Q[state][action] += alpha * td_delta\n",
    "\n",
    "            if done:\n",
    "                break\n",
    "\n",
    "            action = next_action\n",
    "            state = next_state\n",
    "\n",
    "    return Q, stats"
   ]
  },
  {
   "cell_type": "markdown",
   "metadata": {
    "pycharm": {
     "name": "#%% md\n"
    }
   },
   "source": [
    "**e**) Run SARSA and Q-learning on both environments, plot and compare the results.\n",
    "\n",
    "*(1 point)*"
   ]
  },
  {
   "cell_type": "code",
   "execution_count": null,
   "metadata": {
    "pycharm": {
     "name": "#%%\n"
    }
   },
   "outputs": [],
   "source": [
    "# let's first define some visualization functions\n",
    "def plot_episode_lengths(ax, episode_lengths, label=''):\n",
    "    ax.plot(episode_lengths, label=label)\n",
    "    ax.set_xlabel(\"Episode\")\n",
    "    ax.set_ylabel(\"Episode Length\")\n",
    "    ax.set_title(\"Episode Length over Time\")\n",
    "\n",
    "def plot_reward(ax, episode_rewards, smoothing_window=10, label=''):\n",
    "    rewards_smoothed = pd.Series(episode_rewards).rolling(smoothing_window, min_periods=smoothing_window).mean()\n",
    "    ax.plot(rewards_smoothed, label=label)\n",
    "    ax.set_xlabel(\"Episode\")\n",
    "    ax.set_ylabel(\"Episode Reward (Smoothed)\")\n",
    "    ax.set_title(\"Episode Reward over Time (Smoothed over window size {})\".format(smoothing_window))\n",
    "\n",
    "def plot_episode_per_timestep(ax, episode_lengths, label=''):\n",
    "    # Plot time steps and episode number\n",
    "    ax.plot(np.cumsum(episode_lengths), np.arange(len(episode_lengths)), label=label)\n",
    "    ax.set_xlabel(\"Time Steps\")\n",
    "    ax.set_ylabel(\"Episode\")\n",
    "    ax.set_title(\"Episode per time step\")"
   ]
  },
  {
   "cell_type": "code",
   "execution_count": null,
   "metadata": {
    "pycharm": {
     "name": "#%%\n"
    }
   },
   "outputs": [],
   "source": [
    "# Environment 1\n",
    "Q_sarsa1, sarsa_stats1 = sarsa(env1, 200)\n",
    "Q_td1, Q_stats1 = q_learning(env1, 200)"
   ]
  },
  {
   "cell_type": "code",
   "execution_count": null,
   "metadata": {
    "pycharm": {
     "name": "#%%\n"
    }
   },
   "outputs": [],
   "source": [
    "# Environment 2\n",
    "Q_sarsa2, sarsa_stats2 = #\n",
    "Q_td2, Q_stats2 = #"
   ]
  },
  {
   "cell_type": "code",
   "execution_count": null,
   "metadata": {
    "pycharm": {
     "name": "#%%\n"
    }
   },
   "outputs": [],
   "source": [
    "# Plot results for the Cliff-Walking environment\n",
    "fig, ax = plt.subplots(3, 1, figsize=(10, 15))\n",
    "fig.suptitle(\"Cliff Walking\")\n",
    "plot_episode_lengths(ax[0], sarsa_stats1.episode_lengths, label='SARSA')\n",
    "plot_episode_lengths(ax[0], Q_stats1.episode_lengths, label='Q-Learning')\n",
    "\n",
    "plot_reward(ax[1], sarsa_stats1.episode_rewards, smoothing_window=10, label='SARSA')\n",
    "plot_reward(ax[1], Q_stats1.episode_rewards, smoothing_window=10, label='Q-Learning')\n",
    "\n",
    "plot_episode_per_timestep(ax[2], sarsa_stats1.episode_lengths, label='SARSA')\n",
    "plot_episode_per_timestep(ax[2], Q_stats1.episode_lengths, label='Q-Learning')\n",
    "\n",
    "ax[0].legend()"
   ]
  },
  {
   "cell_type": "code",
   "execution_count": null,
   "metadata": {
    "pycharm": {
     "name": "#%%\n"
    }
   },
   "outputs": [],
   "source": [
    "# Plot results for the Windy Gridworld environment\n",
    "fig, ax = plt.subplots(3, 1, figsize=(10, 15))\n",
    "fig.suptitle(\"Windy Gridworld\")\n",
    "plot_episode_lengths(ax[0], sarsa_stats2.episode_lengths, label='SARSA')\n",
    "plot_episode_lengths(ax[0], Q_stats2.episode_lengths, label='Q-Learning')\n",
    "\n",
    "plot_reward(ax[1], sarsa_stats2.episode_rewards, smoothing_window=10, label='SARSA')\n",
    "plot_reward(ax[1], Q_stats2.episode_rewards, smoothing_window=10, label='Q-Learning')\n",
    "\n",
    "plot_episode_per_timestep(ax[2], sarsa_stats2.episode_lengths, label='SARSA')\n",
    "plot_episode_per_timestep(ax[2], Q_stats2.episode_lengths, label='Q-Learning')\n",
    "ax[0].legend()"
   ]
  },
  {
   "cell_type": "code",
   "execution_count": null,
   "metadata": {
    "pycharm": {
     "name": "#%%\n"
    }
   },
   "outputs": [],
   "source": []
  }
 ],
 "metadata": {
  "kernelspec": {
   "display_name": "Python 3 (ipykernel)",
   "language": "python",
   "name": "python3"
  },
  "language_info": {
   "codemirror_mode": {
    "name": "ipython",
    "version": 3
   },
   "file_extension": ".py",
   "mimetype": "text/x-python",
   "name": "python",
   "nbconvert_exporter": "python",
   "pygments_lexer": "ipython3",
   "version": "3.9.7"
  }
 },
 "nbformat": 4,
 "nbformat_minor": 1
}